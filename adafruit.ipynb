{
 "cells": [
  {
   "cell_type": "code",
   "execution_count": null,
   "metadata": {},
   "outputs": [],
   "source": [
    "import os\n",
    "import time\n",
    "import sys\n",
    "#import Adafruit_DHT as dht\n",
    "import paho.mqtt.client as mqtt\n",
    "import json\n",
    "import random\n",
    "\n",
    "ADAFRUIT_HOST = 'io.adafruit.com'\n",
    "ACCESS_TOKEN = '6091395dc0a24fb9b592ba3514ea82e8'\n",
    "USER_NAME = \"smartsecurity76\"\n",
    "\n",
    "# Data capture and upload interval in seconds. Less interval will eventually hang the DHT22.\n",
    "INTERVAL=5\n",
    "\n",
    "sensor_data = {'temperature': 0, 'humidity': 0}\n",
    "\n",
    "next_reading = time.time() \n",
    "\n",
    "client = mqtt.Client()\n",
    "\n",
    "# Set access token\n",
    "client.username_pw_set(USER_NAME,ACCESS_TOKEN)\n",
    "\n",
    "# Connect to ThingsBoard using default MQTT port and 60 seconds keepalive interval\n",
    "client.connect(ADAFRUIT_HOST, 1883)\n",
    "\n",
    "client.loop_start()\n",
    "\n",
    "try:\n",
    "    while True:\n",
    "        humidity,temperature = random.randint(40,85),random.randint(0,100)#.dht.read_retry(dht.DHT22, 4)\n",
    "        humidity = round(humidity, 2)\n",
    "        temperature = round(temperature, 2)\n",
    "        print(\"Temperature: {0}\\u00b0C, Humidity: {1}%\".format(temperature, humidity))\n",
    "        sensor_data['temperature'] = temperature\n",
    "        sensor_data['humidity'] = humidity\n",
    "        print(sensor_data)\n",
    "\n",
    "        # Sending humidity and temperature data to ADAFRUIT_HOST\n",
    "        client.publish('smartsecurity76/feeds/temp',temperature)\n",
    "        client.publish('smartsecurity76/feeds/hum',humidity)\n",
    "        next_reading += INTERVAL\n",
    "        sleep_time = next_reading-time.time()\n",
    "        if sleep_time > 0:\n",
    "            time.sleep(sleep_time)\n",
    "except KeyboardInterrupt:\n",
    "    pass\n",
    "\n",
    "client.loop_stop()\n",
    "client.disconnect()\n"
   ]
  },
  {
   "cell_type": "code",
   "execution_count": null,
   "metadata": {},
   "outputs": [],
   "source": []
  },
  {
   "cell_type": "code",
   "execution_count": null,
   "metadata": {},
   "outputs": [
    {
     "name": "stdout",
     "output_type": "stream",
     "text": [
      "smartsecurity76/feeds/temp 0 b'1222'\n"
     ]
    }
   ],
   "source": [
    "import paho.mqtt.client as mqtt\n",
    "\n",
    "\n",
    "ADAFRUIT_HOST = 'io.adafruit.com'\n",
    "ACCESS_TOKEN = '**************************'\n",
    "USER_NAME = \"*********************\"\n",
    "\n",
    "def on_subscribe(client, userdata, mid, granted_qos):\n",
    "    print(\"Subscribed: \"+(mid)+\" \"+str(granted_qos))\n",
    "\n",
    "def on_message(client, userdata, msg):\n",
    "    print(msg.topic+\" \"+str(msg.qos)+\" \"+str(msg.payload))    \n",
    "\n",
    "client = mqtt.Client()\n",
    "client.on_subscribe = on_subscribe\n",
    "client.on_message = on_message\n",
    "client.username_pw_set(USER_NAME,ACCESS_TOKEN)\n",
    "client.connect(\"io.adafruit.com\", 1883)\n",
    "client.subscribe('smartsecurity76/feeds/temp', qos=1)\n",
    "\n",
    "client.loop_forever()"
   ]
  },
  {
   "cell_type": "code",
   "execution_count": null,
   "metadata": {},
   "outputs": [],
   "source": []
  }
 ],
 "metadata": {
  "kernelspec": {
   "display_name": "Python 3",
   "language": "python",
   "name": "python3"
  },
  "language_info": {
   "codemirror_mode": {
    "name": "ipython",
    "version": 3
   },
   "file_extension": ".py",
   "mimetype": "text/x-python",
   "name": "python",
   "nbconvert_exporter": "python",
   "pygments_lexer": "ipython3",
   "version": "3.6.5"
  }
 },
 "nbformat": 4,
 "nbformat_minor": 2
}
